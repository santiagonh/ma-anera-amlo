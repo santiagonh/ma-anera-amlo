{
 "cells": [
  {
   "cell_type": "code",
   "execution_count": 158,
   "id": "9907f4ec",
   "metadata": {},
   "outputs": [],
   "source": [
    "import pandas as pd\n",
    "import numpy as np\n",
    "import requests\n",
    "from bs4 import BeautifulSoup\n",
    "import json"
   ]
  },
  {
   "cell_type": "markdown",
   "id": "73c85227",
   "metadata": {},
   "source": [
    "### Scrapeo"
   ]
  },
  {
   "cell_type": "code",
   "execution_count": 91,
   "id": "a2778d55",
   "metadata": {},
   "outputs": [],
   "source": [
    "s = requests.get(\"https://lopezobrador.org.mx/secciones/version-estenografica/page/2/\")"
   ]
  },
  {
   "cell_type": "code",
   "execution_count": 92,
   "id": "2b3cd726",
   "metadata": {},
   "outputs": [],
   "source": [
    "soup = BeautifulSoup(s.text, \"html.parser\")"
   ]
  },
  {
   "cell_type": "code",
   "execution_count": 93,
   "id": "4d0997a4",
   "metadata": {},
   "outputs": [],
   "source": [
    "texto = soup.find_all(\"a\")"
   ]
  },
  {
   "cell_type": "code",
   "execution_count": 103,
   "id": "3cc87275",
   "metadata": {},
   "outputs": [],
   "source": [
    "links = [soup.get('href') for soup in codigo]"
   ]
  },
  {
   "cell_type": "code",
   "execution_count": 95,
   "id": "928eb653",
   "metadata": {},
   "outputs": [],
   "source": [
    "urls = [f\"https://lopezobrador.org.mx/secciones/version-estenografica/page/{i}/\" for i in range(2,99)]"
   ]
  },
  {
   "cell_type": "markdown",
   "id": "684498cd",
   "metadata": {},
   "source": [
    "### Limpieza de texto"
   ]
  },
  {
   "cell_type": "code",
   "execution_count": 96,
   "id": "f4e22fa6",
   "metadata": {},
   "outputs": [],
   "source": [
    "r = requests.get('https://lopezobrador.org.mx/2022/02/22/version-estenografica-de-la-conferencia-de-prensa-matutina-del-presidente-andres-manuel-lopez-obrador-689/')"
   ]
  },
  {
   "cell_type": "code",
   "execution_count": 97,
   "id": "bf728f9e",
   "metadata": {},
   "outputs": [],
   "source": [
    "soup = BeautifulSoup(r.text, \"html.parser\")"
   ]
  },
  {
   "cell_type": "code",
   "execution_count": 76,
   "id": "ff8c8e2e",
   "metadata": {},
   "outputs": [],
   "source": [
    "fecha = soup.find(class_=\"entry-date\").text"
   ]
  },
  {
   "cell_type": "code",
   "execution_count": 72,
   "id": "5135f72d",
   "metadata": {},
   "outputs": [],
   "source": [
    "texto = soup.find(class_=\"entry-content\").text"
   ]
  },
  {
   "cell_type": "code",
   "execution_count": 73,
   "id": "c4fc1f56",
   "metadata": {},
   "outputs": [],
   "source": [
    "texto=texto.replace(\"\\n\", \"\").replace(\"\\xa0\", \"\")"
   ]
  },
  {
   "cell_type": "code",
   "execution_count": 84,
   "id": "7a1b6e64",
   "metadata": {},
   "outputs": [],
   "source": [
    "mañaneras.update({fecha : texto})"
   ]
  },
  {
   "cell_type": "markdown",
   "id": "010ff1b1",
   "metadata": {},
   "source": [
    "## Loop para scrapeo y limpieza"
   ]
  },
  {
   "cell_type": "code",
   "execution_count": 128,
   "id": "d2769b72",
   "metadata": {},
   "outputs": [],
   "source": [
    "#mañaneras = {}\n",
    "for url in urls[51:]:\n",
    "    s = requests.get(url)\n",
    "    soup = BeautifulSoup(s.text, \"html.parser\")\n",
    "    codigo = soup.find_all(\"a\")\n",
    "    links = [soup.get('href') for soup in codigo]\n",
    "    \n",
    "    for link in links :\n",
    "        if \"version-estenografica-de-la-conferencia-de-prensa-matutina-del-presidente\" in link:\n",
    "            r = requests.get(link)\n",
    "            soup = BeautifulSoup(r.text, \"html.parser\")\n",
    "            texto = soup.find(class_=\"entry-content\").text\n",
    "            texto = texto.replace(\"\\n\", \"\").replace(\"\\xa0\", \"\")\n",
    "            fecha = soup.find(class_=\"entry-date\").text\n",
    "            mañaneras.update({fecha : texto})"
   ]
  },
  {
   "cell_type": "code",
   "execution_count": 161,
   "id": "825c7c83",
   "metadata": {},
   "outputs": [],
   "source": [
    "with open('data.json', 'w', encoding='utf-8') as fp:\n",
    "    json.dump(mañaneras, fp, ensure_ascii=False)"
   ]
  }
 ],
 "metadata": {
  "kernelspec": {
   "display_name": "Python 3",
   "language": "python",
   "name": "python3"
  },
  "language_info": {
   "codemirror_mode": {
    "name": "ipython",
    "version": 3
   },
   "file_extension": ".py",
   "mimetype": "text/x-python",
   "name": "python",
   "nbconvert_exporter": "python",
   "pygments_lexer": "ipython3",
   "version": "3.8.8"
  }
 },
 "nbformat": 4,
 "nbformat_minor": 5
}
